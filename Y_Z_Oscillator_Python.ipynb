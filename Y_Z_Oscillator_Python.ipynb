{
  "nbformat": 4,
  "nbformat_minor": 0,
  "metadata": {
    "colab": {
      "provenance": []
    },
    "kernelspec": {
      "name": "python3",
      "display_name": "Python 3"
    },
    "language_info": {
      "name": "python"
    }
  },
  "cells": [
    {
      "cell_type": "code",
      "execution_count": 1,
      "metadata": {
        "colab": {
          "base_uri": "https://localhost:8080/"
        },
        "id": "K0Msjk21_Uef",
        "outputId": "fb379c0e-5ce8-48df-c12c-a93f892dcab1"
      },
      "outputs": [
        {
          "output_type": "stream",
          "name": "stdout",
          "text": [
            "   Close  High  Low  ATR  TrailingStop  AVSO    Buy   Sell\n",
            "0    100   101   99  NaN           NaN   NaN  False  False\n",
            "1    102   103  101  NaN           NaN   NaN  False  False\n",
            "2    101   102  100  NaN           NaN   NaN  False  False\n",
            "3    103   104  102  NaN           NaN   NaN  False  False\n",
            "4    104   105  103  NaN           NaN   NaN  False  False\n",
            "5    102   103  101  NaN           NaN   NaN  False  False\n",
            "6    100   101   99  NaN           NaN   NaN  False  False\n",
            "7     99   100   98  NaN           NaN   NaN  False  False\n",
            "8    101   102  100  NaN           NaN   NaN  False  False\n"
          ]
        }
      ],
      "source": [
        "import pandas as pd\n",
        "import numpy as np\n",
        "\n",
        "# Function to calculate ATR\n",
        "def calculate_atr(high, low, close, period):\n",
        "    tr1 = high - low\n",
        "    tr2 = np.abs(high - close.shift(1))\n",
        "    tr3 = np.abs(low - close.shift(1))\n",
        "    tr = pd.concat([tr1, tr2, tr3], axis=1).max(axis=1)\n",
        "    atr = tr.rolling(window=period).mean()\n",
        "    return atr\n",
        "\n",
        "# Function to calculate AVSO\n",
        "def calculate_avso(src, length, smoothing_length):\n",
        "    mean_src = src.rolling(window=length).mean()\n",
        "    std_src = src.rolling(window=length).std()\n",
        "    z_score = (src - mean_src) / std_src\n",
        "    avso = z_score.ewm(span=smoothing_length).mean()\n",
        "    return avso\n",
        "\n",
        "# UT Bot Strategy with AVSO\n",
        "def ut_bot_strategy(data, atr_period, key_value, avso_length, avso_smoothing_length):\n",
        "    # Calculate ATR and Trailing Stop\n",
        "    data['ATR'] = calculate_atr(data['High'], data['Low'], data['Close'], atr_period)\n",
        "    data['TrailingStop'] = np.nan\n",
        "    trailing_stop = [np.nan]\n",
        "\n",
        "    for i in range(1, len(data)):\n",
        "        prev_stop = trailing_stop[-1]\n",
        "        close = data['Close'][i]\n",
        "        atr = data['ATR'][i] * key_value\n",
        "\n",
        "        if close > prev_stop if not pd.isna(prev_stop) else True:\n",
        "            trailing_stop.append(max(prev_stop, close - atr) if not pd.isna(prev_stop) else close - atr)\n",
        "        else:\n",
        "            trailing_stop.append(min(prev_stop, close + atr) if not pd.isna(prev_stop) else close + atr)\n",
        "\n",
        "    data['TrailingStop'] = trailing_stop\n",
        "\n",
        "    # Calculate AVSO\n",
        "    data['AVSO'] = calculate_avso(data['Close'], avso_length, avso_smoothing_length)\n",
        "\n",
        "    # Buy/Sell Signals\n",
        "    data['Buy'] = (data['Close'] > data['TrailingStop']) & (data['AVSO'] > 0)\n",
        "    data['Sell'] = (data['Close'] < data['TrailingStop']) & (data['AVSO'] < 0)\n",
        "\n",
        "    return data\n",
        "\n"
      ]
    }
  ]
}